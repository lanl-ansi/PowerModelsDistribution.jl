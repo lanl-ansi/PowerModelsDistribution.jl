{
 "cells": [
  {
   "cell_type": "markdown",
   "metadata": {},
   "source": [
    "# Building Engineering Data Models with Helper Functions\n",
    "\n",
    "In this notebook we will demonstrate an easy way to start building new distribution network models in the engineering format using new helper functions add in PowerModelsDistribution v0.9"
   ]
  },
  {
   "cell_type": "code",
   "execution_count": 1,
   "metadata": {},
   "outputs": [
    {
     "name": "stderr",
     "output_type": "stream",
     "text": [
      "┌ Info: Precompiling PowerModelsDistribution [d7431456-977f-11e9-2de3-97ff7677985e]\n",
      "└ @ Base loading.jl:1260\n"
     ]
    }
   ],
   "source": [
    "using PowerModelsDistribution"
   ]
  },
  {
   "cell_type": "markdown",
   "metadata": {},
   "source": [
    "First, we need a optimizer. In this case we will use Ipopt and initialize it with JuMP's `optimizer_with_attributes`, which we have exported from PowerModelsDistribution by default for the user"
   ]
  },
  {
   "cell_type": "code",
   "execution_count": 2,
   "metadata": {},
   "outputs": [
    {
     "data": {
      "text/plain": [
       "MathOptInterface.OptimizerWithAttributes(Ipopt.Optimizer, Pair{MathOptInterface.AbstractOptimizerAttribute,Any}[MathOptInterface.RawParameter(\"print_level\") => 0, MathOptInterface.RawParameter(\"tol\") => 1.0e-6])"
      ]
     },
     "execution_count": 2,
     "metadata": {},
     "output_type": "execute_result"
    }
   ],
   "source": [
    "using LinearAlgebra: diagm\n",
    "import Ipopt\n",
    "\n",
    "ipopt_solver = optimizer_with_attributes(Ipopt.Optimizer, \"print_level\"=>0, \"tol\"=>1e-6)"
   ]
  },
  {
   "cell_type": "markdown",
   "metadata": {},
   "source": [
    "Initialize an empty `ENGINEERING` model"
   ]
  },
  {
   "cell_type": "code",
   "execution_count": 3,
   "metadata": {},
   "outputs": [
    {
     "data": {
      "text/plain": [
       "Dict{String,Any} with 3 entries:\n",
       "  \"settings\"   => Dict{String,Any}(\"sbase_default\"=>1.0,\"vbases_default\"=>Dict{…\n",
       "  \"per_unit\"   => false\n",
       "  \"data_model\" => ENGINEERING"
      ]
     },
     "execution_count": 3,
     "metadata": {},
     "output_type": "execute_result"
    }
   ],
   "source": [
    "eng = Model()"
   ]
  },
  {
   "cell_type": "markdown",
   "metadata": {},
   "source": [
    "In this block we build a three bus network, with neutrals grounded at the source and loads.\n",
    "\n",
    "We start with buses, with the sourcebus and loadbus having 4 terminals, with the last terminal grounded.\n",
    "\n",
    "Then we add a generation source, in this case a voltage source, which is `WYE` configured by default, and therefore expects the last conductor to be a grounded neutral\n",
    "\n",
    "We add two three phase lines to connect the buses `sourcebus`, `primary`, and `loadbus`. Note that none of the lines have a neutral conductor.\n",
    "\n",
    "We finally add a three-phase load a the `loadbus` bus, but note again that this is a `WYE` configured load, and like the voltage source, this implies that the last conductor is a grounded neutral for the purposes of kron reduction (which is required by default until explicit 4-wire modeling is added to PowerModelsDistribution)\n",
    "    \n",
    "Lastly, we need to define the default vbase of the system at the `sourcebus`"
   ]
  },
  {
   "cell_type": "code",
   "execution_count": 4,
   "metadata": {},
   "outputs": [
    {
     "data": {
      "text/plain": [
       "Dict{String,Any} with 7 entries:\n",
       "  \"voltage_source\" => Dict{Any,Any}(\"source\"=>Dict{String,Any}(\"source_id\"=>\"vo…\n",
       "  \"line\"           => Dict{Any,Any}(\"primary\"=>Dict{String,Any}(\"xs\"=>[0.2 0.2 …\n",
       "  \"settings\"       => Dict{String,Any}(\"sbase_default\"=>1.0,\"vbases_default\"=>D…\n",
       "  \"load\"           => Dict{Any,Any}(\"balanced\"=>Dict{String,Any}(\"source_id\"=>\"…\n",
       "  \"bus\"            => Dict{Any,Any}(\"primary\"=>Dict{String,Any}(\"source_id\"=>\"b…\n",
       "  \"per_unit\"       => false\n",
       "  \"data_model\"     => ENGINEERING"
      ]
     },
     "execution_count": 4,
     "metadata": {},
     "output_type": "execute_result"
    }
   ],
   "source": [
    "add_bus!(eng, \"sourcebus\"; terminals=[1,2,3,4], grounded=[4])\n",
    "add_bus!(eng, \"primary\"; terminals=[1,2,3])\n",
    "add_bus!(eng, \"loadbus\"; terminals=[1,2,3,4], grounded=[4])\n",
    "\n",
    "add_voltage_source!(eng, \"source\", \"sourcebus\", [1,2,3,4]; vm=[1, 1, 1])\n",
    "\n",
    "add_linecode!(eng, \"default\", diagm(0=>fill(0.01, 3)), diagm(0=>fill(0.2, 3)))\n",
    "\n",
    "add_line!(eng, \"trunk\", \"sourcebus\", \"primary\", [1,2,3], [1,2,3]; linecode=\"default\")\n",
    "add_line!(eng, \"primary\", \"primary\", \"loadbus\", [1,2,3], [1,2,3]; linecode=\"default\")\n",
    "\n",
    "add_load!(eng, \"balanced\", \"loadbus\", [1,2,3,4]; pd_nom=[5, 5, 5], qd_nom=[1, 1, 1])\n",
    "\n",
    "add_vbase_default!(eng, \"sourcebus\", 1)\n",
    "\n",
    "eng"
   ]
  },
  {
   "cell_type": "markdown",
   "metadata": {},
   "source": [
    "Running this case with OPF gives the results below"
   ]
  },
  {
   "cell_type": "code",
   "execution_count": 5,
   "metadata": {},
   "outputs": [
    {
     "name": "stdout",
     "output_type": "stream",
     "text": [
      "\u001b[35m[warn | PowerModels]: Updated generator 1 cost function with order 3 to a function of order 2: [0.001, 0.0]\u001b[39m\n",
      "\n",
      "******************************************************************************\n",
      "This program contains Ipopt, a library for large-scale nonlinear optimization.\n",
      " Ipopt is released as open source code under the Eclipse Public License (EPL).\n",
      "         For more information visit http://projects.coin-or.org/Ipopt\n",
      "******************************************************************************\n",
      "\n"
     ]
    },
    {
     "data": {
      "text/plain": [
       "Dict{String,Any} with 8 entries:\n",
       "  \"solve_time\"         => 3.70515\n",
       "  \"optimizer\"          => \"Ipopt\"\n",
       "  \"termination_status\" => LOCALLY_SOLVED\n",
       "  \"dual_status\"        => FEASIBLE_POINT\n",
       "  \"primal_status\"      => FEASIBLE_POINT\n",
       "  \"objective\"          => 0.0150047\n",
       "  \"solution\"           => Dict{String,Any}(\"voltage_source\"=>Dict{Any,Any}(\"sou…\n",
       "  \"objective_lb\"       => -Inf"
      ]
     },
     "execution_count": 5,
     "metadata": {},
     "output_type": "execute_result"
    }
   ],
   "source": [
    "result = solve_mc_opf(eng, ACPPowerModel, ipopt_solver)"
   ]
  },
  {
   "cell_type": "markdown",
   "metadata": {},
   "source": [
    "In the following example, we provide examples of a wider range of component types that can be added using helper functions to give a flavor of what is possible in PowerModelsDistribution v0.9"
   ]
  },
  {
   "cell_type": "code",
   "execution_count": 6,
   "metadata": {},
   "outputs": [
    {
     "data": {
      "text/plain": [
       "Dict{String,Any} with 11 entries:\n",
       "  \"bus\"            => Dict{Any,Any}(\"primary\"=>Dict{String,Any}(\"source_id\"=>\"b…\n",
       "  \"settings\"       => Dict{String,Any}(\"sbase_default\"=>1.0,\"vbases_default\"=>D…\n",
       "  \"switch\"         => Dict{Any,Any}(\"breaker\"=>Dict{String,Any}(\"source_id\"=>\"s…\n",
       "  \"generator\"      => Dict{Any,Any}(\"secondary\"=>Dict{String,Any}(\"source_id\"=>…\n",
       "  \"voltage_source\" => Dict{Any,Any}(\"source\"=>Dict{String,Any}(\"source_id\"=>\"vo…\n",
       "  \"line\"           => Dict{Any,Any}(\"primary\"=>Dict{String,Any}(\"xs\"=>[0.2 0.2 …\n",
       "  \"per_unit\"       => false\n",
       "  \"data_model\"     => ENGINEERING\n",
       "  \"transformer\"    => Dict{Any,Any}(\"tx1\"=>Dict{String,Any}(\"source_id\"=>\"trans…\n",
       "  \"shunt\"          => Dict{Any,Any}(\"cap\"=>Dict{String,Any}(\"source_id\"=>\"shunt…\n",
       "  \"load\"           => Dict{Any,Any}(\"tload\"=>Dict{String,Any}(\"source_id\"=>\"loa…"
      ]
     },
     "execution_count": 51,
     "metadata": {},
     "output_type": "execute_result"
    }
   ],
   "source": [
    "eng2 = deepcopy(eng)\n",
    "\n",
    "add_bus!(eng2, \"ttbus\"; terminals=[1,2,3,4], grounded=[4])\n",
    "\n",
    "add_transformer!(eng2, \"tx1\", \"sourcebus\", \"ttbus\", [1,2,3,4], [1,2,3,4])\n",
    "\n",
    "add_bus!(eng2, \"loadbus2\"; terminals=[1,2,3,4], grounded=[4])\n",
    "\n",
    "add_switch!(eng2, \"breaker\", \"ttbus\", \"loadbus2\", [1,2,3], [1,2,3])\n",
    "\n",
    "add_load!(eng2, \"tload\", \"loadbus2\", [1,2,3,4]; pd_nom=[5, 5, 5], qd_nom=[1, 1, 1])\n",
    "\n",
    "add_generator!(eng2, \"secondary\", \"loadbus2\", [1,2,3,4]; cost_pg_parameters=[0.0, 1.2, 0])\n",
    "\n",
    "add_shunt!(eng2, \"cap\", \"loadbus2\", [1,2,3,4]; bs=diagm(0=>fill(1, 3)))\n",
    "\n",
    "eng2"
   ]
  },
  {
   "cell_type": "code",
   "execution_count": 7,
   "metadata": {},
   "outputs": [
    {
     "name": "stdout",
     "output_type": "stream",
     "text": [
      "\u001b[35m[warn | PowerModels]: active generators found at bus 4, updating to bus type from 1 to 2\u001b[39m\n",
      "\u001b[35m[warn | PowerModels]: Updated generator 1 cost function with order 3 to a function of order 2: [0.0012, 0.0]\u001b[39m\n",
      "\u001b[35m[warn | PowerModels]: Updated generator 2 cost function with order 3 to a function of order 2: [0.001, 0.0]\u001b[39m\n"
     ]
    },
    {
     "data": {
      "text/plain": [
       "Dict{String,Any} with 8 entries:\n",
       "  \"solve_time\"         => 0.087898\n",
       "  \"optimizer\"          => \"Ipopt\"\n",
       "  \"termination_status\" => LOCALLY_SOLVED\n",
       "  \"dual_status\"        => FEASIBLE_POINT\n",
       "  \"primal_status\"      => FEASIBLE_POINT\n",
       "  \"objective\"          => -83.3003\n",
       "  \"solution\"           => Dict{String,Any}(\"voltage_source\"=>Dict{Any,Any}(\"sou…\n",
       "  \"objective_lb\"       => -Inf"
      ]
     },
     "execution_count": 52,
     "metadata": {},
     "output_type": "execute_result"
    }
   ],
   "source": [
    "result2 = solve_mc_opf(eng2, ACPPowerModel, ipopt_solver)"
   ]
  }
 ],
 "metadata": {
  "kernelspec": {
   "display_name": "Julia 1.4.1",
   "language": "julia",
   "name": "julia-1.4"
  },
  "language_info": {
   "file_extension": ".jl",
   "mimetype": "application/julia",
   "name": "julia",
   "version": "1.4.1"
  },
  "varInspector": {
   "cols": {
    "lenName": 16,
    "lenType": 16,
    "lenVar": 40
   },
   "kernels_config": {
    "python": {
     "delete_cmd_postfix": "",
     "delete_cmd_prefix": "del ",
     "library": "var_list.py",
     "varRefreshCmd": "print(var_dic_list())"
    },
    "r": {
     "delete_cmd_postfix": ") ",
     "delete_cmd_prefix": "rm(",
     "library": "var_list.r",
     "varRefreshCmd": "cat(var_dic_list()) "
    }
   },
   "types_to_exclude": [
    "module",
    "function",
    "builtin_function_or_method",
    "instance",
    "_Feature"
   ],
   "window_display": false
  }
 },
 "nbformat": 4,
 "nbformat_minor": 2
}