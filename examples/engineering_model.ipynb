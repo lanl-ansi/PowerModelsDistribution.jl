{
 "cells": [
  {
   "cell_type": "markdown",
   "metadata": {},
   "source": [
    "# Introduction to the PowerModelsDistribution Data Models\n",
    "\n",
    "In this notebook we introduce the engineering data model added to PowerModelsDistribution in version v0.9.0. We will give serveral examples of how to use this new data model directly, including new transformations that have become easier with it's introduction, how to convert it to the the lower-level mathematical model that was previously the only user interface we offered, and how to get various types of results using this new model."
   ]
  },
  {
   "cell_type": "markdown",
   "metadata": {},
   "source": [
    "## Imports\n",
    "\n",
    "All commands in this document with no package namespace specified are directly exported by PowerModelsDistribution or already available in Julia base. Any commands that are only avaiable via an external package will be specified by including by using `import`, which will require specifying the originating package before the command, _e.g._ `Ipopt.Optimizer` as you will see below."
   ]
  },
  {
   "cell_type": "code",
   "execution_count": 1,
   "metadata": {},
   "outputs": [
    {
     "name": "stderr",
     "output_type": "stream",
     "text": [
      "┌ Info: Precompiling PowerModelsDistribution [d7431456-977f-11e9-2de3-97ff7677985e]\n",
      "└ @ Base loading.jl:1260\n"
     ]
    }
   ],
   "source": [
    "using PowerModelsDistribution"
   ]
  },
  {
   "cell_type": "markdown",
   "metadata": {},
   "source": [
    "In these examples we will use the following optimization solvers, specified using `optimizer_with_attributes` from JuMP v0.21"
   ]
  },
  {
   "cell_type": "code",
   "execution_count": 2,
   "metadata": {},
   "outputs": [
    {
     "data": {
      "text/plain": [
       "MathOptInterface.OptimizerWithAttributes(Ipopt.Optimizer, Pair{MathOptInterface.AbstractOptimizerAttribute,Any}[MathOptInterface.RawParameter(\"tol\") => 1.0e-6, MathOptInterface.RawParameter(\"print_level\") => 0])"
      ]
     },
     "execution_count": 2,
     "metadata": {},
     "output_type": "execute_result"
    }
   ],
   "source": [
    "import Ipopt\n",
    "\n",
    "ipopt_solver = optimizer_with_attributes(Ipopt.Optimizer, \"tol\"=>1e-6, \"print_level\"=>0)"
   ]
  },
  {
   "cell_type": "markdown",
   "metadata": {},
   "source": [
    "## Parsing Data\n",
    "\n",
    "Here we give the first example of how to parse data into the `ENGINEERING` data model structure, which is the default data structure type that the user will see without passing additional arguments, as we demonstrate later.\n",
    "\n",
    "We start with a 3 bus unbalanced load case provided as a dss file in the `test` folder of the PowerModelsDistribution.jl repository"
   ]
  },
  {
   "cell_type": "code",
   "execution_count": 3,
   "metadata": {},
   "outputs": [
    {
     "name": "stdout",
     "output_type": "stream",
     "text": [
      "\u001b[32m[info | PowerModels]: Circuit has been reset with the \"clear\" on line 1 in \"case3_unbalanced.dss\"\u001b[39m\n",
      "\u001b[35m[warn | PowerModels]: Command \"calcvoltagebases\" on line 35 in \"case3_unbalanced.dss\" is not supported, skipping.\u001b[39m\n",
      "\u001b[35m[warn | PowerModels]: Command \"solve\" on line 37 in \"case3_unbalanced.dss\" is not supported, skipping.\u001b[39m\n"
     ]
    },
    {
     "data": {
      "text/plain": [
       "Dict{String,Any} with 9 entries:\n",
       "  \"voltage_source\" => Dict{Any,Any}(\"source\"=>Dict{String,Any}(\"source_id\"=>\"vs…\n",
       "  \"name\"           => \"3bus_example\"\n",
       "  \"line\"           => Dict{Any,Any}(\"quad\"=>Dict{String,Any}(\"cm_ub\"=>[400.0, 4…\n",
       "  \"settings\"       => Dict{String,Any}(\"sbase_default\"=>500.0,\"vbases_default\"=…\n",
       "  \"files\"          => [\"case3_unbalanced.dss\"]\n",
       "  \"load\"           => Dict{Any,Any}(\"l2\"=>Dict{String,Any}(\"source_id\"=>\"load.l…\n",
       "  \"bus\"            => Dict{Any,Any}(\"primary\"=>Dict{String,Any}(\"rg\"=>Float64[]…\n",
       "  \"linecode\"       => Dict{Any,Any}(\"556mcm\"=>Dict{String,Any}(\"b_fr\"=>[25.4648…\n",
       "  \"data_model\"     => ENGINEERING"
      ]
     },
     "execution_count": 3,
     "metadata": {},
     "output_type": "execute_result"
    }
   ],
   "source": [
    "eng = parse_file(\"../test/data/opendss/case3_unbalanced.dss\")"
   ]
  },
  {
   "cell_type": "markdown",
   "metadata": {},
   "source": [
    "Different information and warning messages will be given depending on the input file. In the case above, these messages all related to various parse notifications that arise during a parse of a dss file, and can be safely ignored\n",
    "\n",
    "The resulting data structure is a Julia dictionary. The first notable field is `\"data_model\"` which specifies which data model this data structure corresponds to, in this case `ENGINEERING`. This value is expected to be an `Enum` of type `DataModel`\n",
    "\n",
    "The next notable field is `\"settings\"`, which contains some important default/starting values for the distribution network"
   ]
  },
  {
   "cell_type": "code",
   "execution_count": 4,
   "metadata": {},
   "outputs": [
    {
     "data": {
      "text/plain": [
       "Dict{String,Any} with 5 entries:\n",
       "  \"sbase_default\"        => 500.0\n",
       "  \"vbases_default\"       => Dict(\"sourcebus\"=>0.23094)\n",
       "  \"voltage_scale_factor\" => 1000.0\n",
       "  \"power_scale_factor\"   => 1000.0\n",
       "  \"base_frequency\"       => 50.0"
      ]
     },
     "execution_count": 4,
     "metadata": {},
     "output_type": "execute_result"
    }
   ],
   "source": [
    "eng[\"settings\"]"
   ]
  },
  {
   "cell_type": "markdown",
   "metadata": {},
   "source": [
    "- `\"sbase_default\"` is the starting value for the power base,\n",
    "- `\"vbases_default\"` is the starting voltage base for the case, and multiple voltage bases can be specified, which would be useful in cases where there are multiple isolated islands with their own generation,\n",
    "- `\"voltage_scale_factor\"` is a scaling factor for all voltage values, which in the case of OpenDSS is in kV by default\n",
    "- `\"power_scale_factor\"` is a scaling factor for all power values\n",
    "- `\"base_frequency\"` is the base frequency of the network in Hz, which is useful to know for mixed frequency networks\n",
    "\n",
    "Next we look at the `\"bus\"` components"
   ]
  },
  {
   "cell_type": "code",
   "execution_count": 5,
   "metadata": {},
   "outputs": [
    {
     "data": {
      "text/plain": [
       "Dict{Any,Any} with 3 entries:\n",
       "  \"primary\"   => Dict{String,Any}(\"rg\"=>Float64[],\"grounded\"=>Int64[],\"status\"=…\n",
       "  \"sourcebus\" => Dict{String,Any}(\"rg\"=>Float64[],\"grounded\"=>Int64[],\"status\"=…\n",
       "  \"loadbus\"   => Dict{String,Any}(\"rg\"=>[0.0],\"grounded\"=>[4],\"status\"=>ENABLED…"
      ]
     },
     "execution_count": 5,
     "metadata": {},
     "output_type": "execute_result"
    }
   ],
   "source": [
    "eng[\"bus\"]"
   ]
  },
  {
   "cell_type": "markdown",
   "metadata": {},
   "source": [
    "We can see there are three buses in this system, identified by ids `\"primary\"`, `\"sourcebus\"`, and `\"loadbus\"`. \n",
    "\n",
    "__NOTE__: In Julia, order of Dictionary keys is not fixed, nor does it retain the order in which it was parsed like _e.g._ `Vectors`. \n",
    "\n",
    "Identifying components by non-integer names is a new feature of the `ENGINEERING` model, and makes network debugging more straightforward. \n",
    "\n",
    "__NOTE__: all names are converted to lowercase on parse from the originating dss file.\n",
    "\n",
    "Each bus component has the following properties in the `ENGINEERING` model"
   ]
  },
  {
   "cell_type": "code",
   "execution_count": 6,
   "metadata": {},
   "outputs": [
    {
     "data": {
      "text/plain": [
       "Dict{String,Any} with 5 entries:\n",
       "  \"rg\"        => Float64[]\n",
       "  \"grounded\"  => Int64[]\n",
       "  \"status\"    => ENABLED\n",
       "  \"terminals\" => [1, 2, 3]\n",
       "  \"xg\"        => Float64[]"
      ]
     },
     "execution_count": 6,
     "metadata": {},
     "output_type": "execute_result"
    }
   ],
   "source": [
    "eng[\"bus\"][\"sourcebus\"]"
   ]
  },
  {
   "cell_type": "markdown",
   "metadata": {},
   "source": [
    "- `\"terminals\"` indicates which terminals on the bus have active connections\n",
    "- `\"grounded\"` indicates which terminals are grounded\n",
    "- `\"rg\"` and `\"xg\"` indicate the grounding resistance and reactance of the ground\n",
    "- `\"status\"` indicates whether a bus is `ENABLED` or `DISABLED`, and is specified for every component in the engineering model\n",
    "\n",
    "Next, we look at the `\"line\"` components, which is a generic name for both overhead lines and underground cables, which we do not differentiate between in the nomenclature"
   ]
  },
  {
   "cell_type": "code",
   "execution_count": 7,
   "metadata": {},
   "outputs": [
    {
     "data": {
      "text/plain": [
       "Dict{Any,Any} with 2 entries:\n",
       "  \"quad\"   => Dict{String,Any}(\"cm_ub\"=>[400.0, 400.0, 400.0],\"cm_ub_c\"=>[600.0…\n",
       "  \"ohline\" => Dict{String,Any}(\"cm_ub\"=>[400.0, 400.0, 400.0],\"cm_ub_c\"=>[600.0…"
      ]
     },
     "execution_count": 7,
     "metadata": {},
     "output_type": "execute_result"
    }
   ],
   "source": [
    "eng[\"line\"]"
   ]
  },
  {
   "cell_type": "code",
   "execution_count": 8,
   "metadata": {},
   "outputs": [
    {
     "data": {
      "text/plain": [
       "Dict{String,Any} with 11 entries:\n",
       "  \"cm_ub\"         => [400.0, 400.0, 400.0]\n",
       "  \"cm_ub_c\"       => [600.0, 600.0, 600.0]\n",
       "  \"f_connections\" => [1, 2, 3]\n",
       "  \"length\"        => 1.0\n",
       "  \"status\"        => ENABLED\n",
       "  \"source_id\"     => \"line.quad\"\n",
       "  \"t_connections\" => [1, 2, 3]\n",
       "  \"f_bus\"         => \"primary\"\n",
       "  \"t_bus\"         => \"loadbus\"\n",
       "  \"cm_ub_b\"       => [600.0, 600.0, 600.0]\n",
       "  \"linecode\"      => \"4/0quad\""
      ]
     },
     "execution_count": 8,
     "metadata": {},
     "output_type": "execute_result"
    }
   ],
   "source": [
    "eng[\"line\"][\"quad\"]"
   ]
  },
  {
   "cell_type": "markdown",
   "metadata": {},
   "source": [
    "Again, we see components identified by their OpenDSS names. A `\"line\"` is an edge object, which will always have the following properties:\n",
    "\n",
    "- `\"f_bus\"`\n",
    "- `\"t_bus\"`\n",
    "- `\"f_connections\"` - list of terminals to which the line is connected on the from-side\n",
    "- `\"t_connections\"` - list of terminals to which the line is connected on the to-side\n",
    "\n",
    "Here we are also introduced to two important concepts, the `\"source_id\"`, which is an easy way to identify from where an object originates in the dss file, and a data type element, pointed to by `\"linecode\"` in this case.\n",
    "\n",
    "A data type element is an element that does not represent a real engineering object, but only contains data that one of those real objects can refer to, in this case a linecode, which contains information like line resistance/reactance and conductance/susceptance."
   ]
  },
  {
   "cell_type": "code",
   "execution_count": 9,
   "metadata": {},
   "outputs": [
    {
     "data": {
      "text/plain": [
       "Dict{String,Any} with 6 entries:\n",
       "  \"b_fr\" => [25.4648 -0.0 -0.0; -0.0 25.4648 -0.0; -0.0 -0.0 25.4648]\n",
       "  \"rs\"   => [0.1167 0.0467 0.0467; 0.0467 0.1167 0.0467; 0.0467 0.0467 0.1167]\n",
       "  \"xs\"   => [0.0667 0.0267 0.0267; 0.0267 0.0667 0.0267; 0.0267 0.0267 0.0667]\n",
       "  \"b_to\" => [25.4648 -0.0 -0.0; -0.0 25.4648 -0.0; -0.0 -0.0 25.4648]\n",
       "  \"g_to\" => [0.0 0.0 0.0; 0.0 0.0 0.0; 0.0 0.0 0.0]\n",
       "  \"g_fr\" => [0.0 0.0 0.0; 0.0 0.0 0.0; 0.0 0.0 0.0]"
      ]
     },
     "execution_count": 9,
     "metadata": {},
     "output_type": "execute_result"
    }
   ],
   "source": [
    "eng[\"linecode\"][\"4/0quad\"]"
   ]
  },
  {
   "cell_type": "markdown",
   "metadata": {},
   "source": [
    "Next, we introduce a node element, the `\"load\"` object, where we also see the first example of a specification of less than three phases at a time"
   ]
  },
  {
   "cell_type": "code",
   "execution_count": 10,
   "metadata": {},
   "outputs": [
    {
     "data": {
      "text/plain": [
       "Dict{String,Any} with 10 entries:\n",
       "  \"source_id\"     => \"load.l1\"\n",
       "  \"qd_nom\"        => [3.0]\n",
       "  \"status\"        => ENABLED\n",
       "  \"model\"         => POWER\n",
       "  \"connections\"   => [1, 4]\n",
       "  \"vm_nom\"        => 0.23094\n",
       "  \"pd_nom\"        => [9.0]\n",
       "  \"dispatchable\"  => NO\n",
       "  \"bus\"           => \"loadbus\"\n",
       "  \"configuration\" => WYE"
      ]
     },
     "execution_count": 10,
     "metadata": {},
     "output_type": "execute_result"
    }
   ],
   "source": [
    "eng[\"load\"][\"l1\"]"
   ]
  },
  {
   "cell_type": "markdown",
   "metadata": {},
   "source": [
    "We can see that the length of the Vectors for `\"pd_nom\"` and `\"qd_nom\"` are only one, although the number of terminals listed in `\"connections\"` is two. This is because the connection is WYE, and therefore the final connection is a grounded neutral\n",
    "\n",
    "Here we are also introduced to two new Enums, `WYE`, which gives the connection configuration, and `NO` under dispatchable, which indicates that if this case were used in an MLD problem, _i.e._ with `run_mc_mld` that this load would not be sheddable.\n",
    "\n",
    "Finally, we show the generation source for this case, which in opendss is a voltage source named `\"source\"`"
   ]
  },
  {
   "cell_type": "code",
   "execution_count": 11,
   "metadata": {},
   "outputs": [
    {
     "data": {
      "text/plain": [
       "Dict{String,Any} with 8 entries:\n",
       "  \"source_id\"   => \"vsource.source\"\n",
       "  \"rs\"          => [4.27691e-8 3.96342e-9 3.96342e-9; 3.96342e-9 4.27691e-8 3.9…\n",
       "  \"va\"          => [0.0, -120.0, 120.0]\n",
       "  \"status\"      => ENABLED\n",
       "  \"connections\" => [1, 2, 3]\n",
       "  \"vm\"          => [0.229993, 0.229993, 0.229993]\n",
       "  \"xs\"          => [1.54178e-7 -1.04497e-9 -1.04497e-9; -1.04497e-9 1.54178e-7 …\n",
       "  \"bus\"         => \"sourcebus\""
      ]
     },
     "execution_count": 11,
     "metadata": {},
     "output_type": "execute_result"
    }
   ],
   "source": [
    "eng[\"voltage_source\"][\"source\"]"
   ]
  },
  {
   "cell_type": "markdown",
   "metadata": {},
   "source": [
    "- `\"vm\"` - specifies the fixed voltage magnitudes per phase at the bus\n",
    "- `\"va\"` - specifies the fixed reference angles per phases at the bus\n",
    "- `\"rs\"` and `\"xs\"` specifies internal impedances of the voltage source"
   ]
  },
  {
   "cell_type": "markdown",
   "metadata": {},
   "source": [
    "### Importing raw dss properties\n",
    "\n",
    "In case there are additional properties that you want to use from dss, it is possible to import those directly into the `ENGINEERING` (and `MATHEMATICAL`) data structure with the `import_all` keyword argument"
   ]
  },
  {
   "cell_type": "code",
   "execution_count": 12,
   "metadata": {},
   "outputs": [
    {
     "name": "stdout",
     "output_type": "stream",
     "text": [
      "\u001b[32m[info | PowerModels]: Circuit has been reset with the \"clear\" on line 1 in \"case3_unbalanced.dss\"\u001b[39m\n",
      "\u001b[35m[warn | PowerModels]: Command \"calcvoltagebases\" on line 35 in \"case3_unbalanced.dss\" is not supported, skipping.\u001b[39m\n",
      "\u001b[35m[warn | PowerModels]: Command \"solve\" on line 37 in \"case3_unbalanced.dss\" is not supported, skipping.\u001b[39m\n"
     ]
    },
    {
     "data": {
      "text/plain": [
       "Dict{Any,Any} with 2 entries:\n",
       "  \"quad\"   => Dict{String,Any}(\"cm_ub\"=>[400.0, 400.0, 400.0],\"cm_ub_c\"=>[600.0…\n",
       "  \"ohline\" => Dict{String,Any}(\"cm_ub\"=>[400.0, 400.0, 400.0],\"cm_ub_c\"=>[600.0…"
      ]
     },
     "execution_count": 12,
     "metadata": {},
     "output_type": "execute_result"
    }
   ],
   "source": [
    "eng_all = parse_file(\"../test/data/opendss/case3_unbalanced.dss\"; import_all=true)\n",
    "\n",
    "eng_all[\"line\"]"
   ]
  },
  {
   "cell_type": "markdown",
   "metadata": {},
   "source": [
    "You will note the presence of `\"dss\"` dictionaries under components, and `\"dss_options\"` at the root level"
   ]
  },
  {
   "cell_type": "markdown",
   "metadata": {},
   "source": [
    "## Running Optimal Power Flow\n",
    "\n",
    "In this section we introduce how to run an optimal power flow (opf) in PowerModelsDistribution on an engineering data model\n",
    "\n",
    "In order to run an OPF problem you will need\n",
    "\n",
    "1. a data model\n",
    "2. a formulation\n",
    "3. a solver\n",
    "\n",
    "In these examples we will use the `eng` model we worked with above, the `ACPPowerModel`, which is a AC power flow formulation in polar coordinates, and the `ipopt_solver` we already defined above"
   ]
  },
  {
   "cell_type": "code",
   "execution_count": 13,
   "metadata": {},
   "outputs": [
    {
     "name": "stdout",
     "output_type": "stream",
     "text": [
      "\u001b[35m[warn | PowerModels]: Updated generator 1 cost function with order 3 to a function of order 2: [0.5, 0.0]\u001b[39m\n",
      "\n",
      "******************************************************************************\n",
      "This program contains Ipopt, a library for large-scale nonlinear optimization.\n",
      " Ipopt is released as open source code under the Eclipse Public License (EPL).\n",
      "         For more information visit http://projects.coin-or.org/Ipopt\n",
      "******************************************************************************\n",
      "\n"
     ]
    },
    {
     "data": {
      "text/plain": [
       "Dict{String,Any} with 8 entries:\n",
       "  \"solve_time\"         => 3.9884\n",
       "  \"optimizer\"          => \"Ipopt\"\n",
       "  \"termination_status\" => LOCALLY_SOLVED\n",
       "  \"dual_status\"        => FEASIBLE_POINT\n",
       "  \"primal_status\"      => FEASIBLE_POINT\n",
       "  \"objective\"          => 0.0214812\n",
       "  \"solution\"           => Dict{String,Any}(\"voltage_source\"=>Dict{Any,Any}(\"sou…\n",
       "  \"objective_lb\"       => -Inf"
      ]
     },
     "execution_count": 13,
     "metadata": {},
     "output_type": "execute_result"
    }
   ],
   "source": [
    "result = run_mc_opf(eng, ACPPowerModel, ipopt_solver)"
   ]
  },
  {
   "cell_type": "markdown",
   "metadata": {},
   "source": [
    "The result of `run_mc_opf` will be very familiar to those who are already familiar with PowerModels and PowerModelsDistribution. The notable difference will be in the `\"solution\"` dictionary"
   ]
  },
  {
   "cell_type": "code",
   "execution_count": 14,
   "metadata": {},
   "outputs": [
    {
     "data": {
      "text/plain": [
       "Dict{String,Any} with 6 entries:\n",
       "  \"voltage_source\" => Dict{Any,Any}(\"source\"=>Dict{String,Any}(\"qg_bus\"=>[3.177…\n",
       "  \"line\"           => Dict{Any,Any}(\"quad\"=>Dict{String,Any}(\"qf\"=>[3.09488, 3.…\n",
       "  \"settings\"       => Dict{String,Any}(\"sbase\"=>0.5)\n",
       "  \"load\"           => Dict{Any,Any}(\"l2\"=>Dict{String,Any}(\"qd_bus\"=>[0.0, 3.0,…\n",
       "  \"bus\"            => Dict{Any,Any}(\"primary\"=>Dict{String,Any}(\"va\"=>[-0.22425…\n",
       "  \"per_unit\"       => false"
      ]
     },
     "execution_count": 14,
     "metadata": {},
     "output_type": "execute_result"
    }
   ],
   "source": [
    "result[\"solution\"]"
   ]
  },
  {
   "cell_type": "markdown",
   "metadata": {},
   "source": [
    "Here you can see that the solution comes back out by default into the same data model as is provided by the user to the `run_` command, as well as being in SI units, as opposed to per unit, which is used during the solve. For example,"
   ]
  },
  {
   "cell_type": "code",
   "execution_count": 15,
   "metadata": {},
   "outputs": [
    {
     "data": {
      "text/plain": [
       "Dict{String,Any} with 2 entries:\n",
       "  \"va\" => [-0.484238, -120.243, 120.274]\n",
       "  \"vm\" => [0.222521, 0.226727, 0.225577]"
      ]
     },
     "execution_count": 15,
     "metadata": {},
     "output_type": "execute_result"
    }
   ],
   "source": [
    "result[\"solution\"][\"bus\"][\"loadbus\"]"
   ]
  },
  {
   "cell_type": "markdown",
   "metadata": {},
   "source": [
    "If for some reason you want to return the result in per-unit rather than SI, you can specify this in the `run_` command by"
   ]
  },
  {
   "cell_type": "code",
   "execution_count": 16,
   "metadata": {},
   "outputs": [
    {
     "name": "stdout",
     "output_type": "stream",
     "text": [
      "\u001b[35m[warn | PowerModels]: Updated generator 1 cost function with order 3 to a function of order 2: [0.5, 0.0]\u001b[39m\n"
     ]
    },
    {
     "data": {
      "text/plain": [
       "Dict{String,Any} with 2 entries:\n",
       "  \"va\" => [-0.484238, -120.243, 120.274]\n",
       "  \"vm\" => [0.963546, 0.981757, 0.976779]"
      ]
     },
     "execution_count": 16,
     "metadata": {},
     "output_type": "execute_result"
    }
   ],
   "source": [
    "result_pu = run_mc_opf(eng, ACPPowerModel, ipopt_solver; make_si=false)\n",
    "\n",
    "result_pu[\"solution\"][\"bus\"][\"loadbus\"]"
   ]
  },
  {
   "cell_type": "markdown",
   "metadata": {},
   "source": [
    "### Branch Flow formulations\n",
    "\n",
    "Previously, to use a branch flow formulation, such as `SOCNLPUBFPowerModel`, it was required to use a different `run_` command, but now, by using multiple dispatch we have simplified this for the user"
   ]
  },
  {
   "cell_type": "code",
   "execution_count": 17,
   "metadata": {},
   "outputs": [
    {
     "name": "stdout",
     "output_type": "stream",
     "text": [
      "\u001b[35m[warn | PowerModels]: Updated generator 1 cost function with order 3 to a function of order 2: [0.5, 0.0]\u001b[39m\n"
     ]
    },
    {
     "data": {
      "text/plain": [
       "Dict{String,Any} with 8 entries:\n",
       "  \"solve_time\"         => 0.190441\n",
       "  \"optimizer\"          => \"Ipopt\"\n",
       "  \"termination_status\" => LOCALLY_SOLVED\n",
       "  \"dual_status\"        => FEASIBLE_POINT\n",
       "  \"primal_status\"      => FEASIBLE_POINT\n",
       "  \"objective\"          => 0.0211303\n",
       "  \"solution\"           => Dict{String,Any}(\"voltage_source\"=>Dict{Any,Any}(\"sou…\n",
       "  \"objective_lb\"       => -Inf"
      ]
     },
     "execution_count": 17,
     "metadata": {},
     "output_type": "execute_result"
    }
   ],
   "source": [
    "result_bf = run_mc_opf(eng, SOCNLPUBFPowerModel, ipopt_solver)"
   ]
  },
  {
   "cell_type": "markdown",
   "metadata": {},
   "source": [
    "## Engineering Model Transformations\n",
    "\n",
    "One of the power things about the engineering model is that data transformations are much more simple. Here we illustrate two examples that are currently included in PowerModelsDistribution, but writing your own data transformation functions will be trivial, as we will show\n",
    "\n",
    "First, there are several objects that have loss models by default when parsing from dss files, such as voltage sources, transformers, and switches. To remove these loss models, therefore making these components lossless, we can use the included `make_lossess!` function. Here we use a basic 2-winding wye-wye connected transformer case from `test` to illustrate this"
   ]
  },
  {
   "cell_type": "code",
   "execution_count": 18,
   "metadata": {},
   "outputs": [
    {
     "name": "stdout",
     "output_type": "stream",
     "text": [
      "\u001b[32m[info | PowerModels]: Circuit has been reset with the \"clear\" on line 1 in \"ut_trans_2w_yy.dss\"\u001b[39m\n",
      "\u001b[35m[warn | PowerModels]: Command \"calcvoltagebases\" on line 35 in \"ut_trans_2w_yy.dss\" is not supported, skipping.\u001b[39m\n",
      "\u001b[35m[warn | PowerModels]: Command \"solve\" on line 38 in \"ut_trans_2w_yy.dss\" is not supported, skipping.\u001b[39m\n"
     ]
    },
    {
     "data": {
      "text/plain": [
       "Dict{String,Any} with 16 entries:\n",
       "  \"polarity\"      => [1, 1]\n",
       "  \"sm_nom\"        => [500.0, 500.0]\n",
       "  \"tm_lb\"         => [[0.9, 0.9, 0.9], [0.9, 0.9, 0.9]]\n",
       "  \"connections\"   => [[1, 2, 3, 4], [1, 2, 3, 4]]\n",
       "  \"tm_set\"        => [[1.02, 1.02, 1.02], [0.97, 0.97, 0.97]]\n",
       "  \"tm_step\"       => [[0.03125, 0.03125, 0.03125], [0.03125, 0.03125, 0.03125]]\n",
       "  \"bus\"           => [\"1\", \"2\"]\n",
       "  \"configuration\" => ConnConfig[WYE, WYE]\n",
       "  \"noloadloss\"    => 0.05\n",
       "  \"xsc\"           => [0.05]\n",
       "  \"source_id\"     => \"transformer.tx1\"\n",
       "  \"rw\"            => [0.01, 0.02]\n",
       "  \"tm_fix\"        => Array{Bool,1}[[1, 1, 1], [1, 1, 1]]\n",
       "  \"vm_nom\"        => [11.0, 4.0]\n",
       "  \"tm_ub\"         => [[1.1, 1.1, 1.1], [1.1, 1.1, 1.1]]\n",
       "  \"imag\"          => 0.11"
      ]
     },
     "execution_count": 18,
     "metadata": {},
     "output_type": "execute_result"
    }
   ],
   "source": [
    "eng_ut = parse_file(\"../test/data/opendss/ut_trans_2w_yy.dss\")\n",
    "\n",
    "eng_ut[\"transformer\"][\"tx1\"]"
   ]
  },
  {
   "cell_type": "markdown",
   "metadata": {},
   "source": [
    "We can see that `\"noloadloss\"`, `\"rw\"`, and `\"imag\"` are non-zero, but if we apply the `make_lossless!` function we can see these parameters are set to zero, effectively eliminating the losses"
   ]
  },
  {
   "cell_type": "code",
   "execution_count": 19,
   "metadata": {},
   "outputs": [
    {
     "data": {
      "text/plain": [
       "Dict{String,Any} with 16 entries:\n",
       "  \"polarity\"      => [1, 1]\n",
       "  \"sm_nom\"        => [500.0, 500.0]\n",
       "  \"tm_lb\"         => [[0.9, 0.9, 0.9], [0.9, 0.9, 0.9]]\n",
       "  \"connections\"   => [[1, 2, 3, 4], [1, 2, 3, 4]]\n",
       "  \"tm_set\"        => [[1.02, 1.02, 1.02], [0.97, 0.97, 0.97]]\n",
       "  \"tm_step\"       => [[0.03125, 0.03125, 0.03125], [0.03125, 0.03125, 0.03125]]\n",
       "  \"bus\"           => [\"1\", \"2\"]\n",
       "  \"configuration\" => ConnConfig[WYE, WYE]\n",
       "  \"noloadloss\"    => 0.0\n",
       "  \"xsc\"           => [0.0]\n",
       "  \"source_id\"     => \"transformer.tx1\"\n",
       "  \"rw\"            => [0.0, 0.0]\n",
       "  \"tm_fix\"        => Array{Bool,1}[[1, 1, 1], [1, 1, 1]]\n",
       "  \"vm_nom\"        => [11.0, 4.0]\n",
       "  \"tm_ub\"         => [[1.1, 1.1, 1.1], [1.1, 1.1, 1.1]]\n",
       "  \"imag\"          => 0.0"
      ]
     },
     "execution_count": 19,
     "metadata": {},
     "output_type": "execute_result"
    }
   ],
   "source": [
    "make_lossless!(eng_ut)\n",
    "\n",
    "eng_ut[\"transformer\"][\"tx1\"]"
   ]
  },
  {
   "cell_type": "markdown",
   "metadata": {},
   "source": [
    "Alternatively, we can apply this function at parse"
   ]
  },
  {
   "cell_type": "code",
   "execution_count": 28,
   "metadata": {},
   "outputs": [
    {
     "name": "stdout",
     "output_type": "stream",
     "text": [
      "\u001b[32m[info | PowerModels]: Circuit has been reset with the \"clear\" on line 1 in \"ut_trans_2w_yy.dss\"\u001b[39m\n",
      "\u001b[35m[warn | PowerModels]: Command \"calcvoltagebases\" on line 35 in \"ut_trans_2w_yy.dss\" is not supported, skipping.\u001b[39m\n",
      "\u001b[35m[warn | PowerModels]: Command \"solve\" on line 38 in \"ut_trans_2w_yy.dss\" is not supported, skipping.\u001b[39m\n"
     ]
    },
    {
     "data": {
      "text/plain": [
       "Dict{String,Any} with 16 entries:\n",
       "  \"polarity\"      => [1, 1]\n",
       "  \"sm_nom\"        => [500.0, 500.0]\n",
       "  \"tm_lb\"         => [[0.9, 0.9, 0.9], [0.9, 0.9, 0.9]]\n",
       "  \"connections\"   => [[1, 2, 3, 4], [1, 2, 3, 4]]\n",
       "  \"tm_set\"        => [[1.02, 1.02, 1.02], [0.97, 0.97, 0.97]]\n",
       "  \"tm_step\"       => [[0.03125, 0.03125, 0.03125], [0.03125, 0.03125, 0.03125]]\n",
       "  \"bus\"           => [\"1\", \"2\"]\n",
       "  \"configuration\" => ConnConfig[WYE, WYE]\n",
       "  \"noloadloss\"    => 0.0\n",
       "  \"xsc\"           => [0.0]\n",
       "  \"source_id\"     => \"transformer.tx1\"\n",
       "  \"rw\"            => [0.0, 0.0]\n",
       "  \"tm_fix\"        => Array{Bool,1}[[1, 1, 1], [1, 1, 1]]\n",
       "  \"vm_nom\"        => [11.0, 4.0]\n",
       "  \"tm_ub\"         => [[1.1, 1.1, 1.1], [1.1, 1.1, 1.1]]\n",
       "  \"imag\"          => 0.0"
      ]
     },
     "execution_count": 28,
     "metadata": {},
     "output_type": "execute_result"
    }
   ],
   "source": [
    "eng_ut = parse_file(\"../test/data/opendss/ut_trans_2w_yy.dss\"; transformations=[make_lossless!])\n",
    "\n",
    "eng_ut[\"transformer\"][\"tx1\"]"
   ]
  },
  {
   "cell_type": "markdown",
   "metadata": {},
   "source": [
    "Another transformation function included in PowerModelsDistribution is the `apply_voltage_bounds!` function, which will apply some voltage bounds in SI units, given some percent value, _e.g._ if we want the lower bound on voltage to be `0.9` and upper bound `1.1` after per-unit conversion"
   ]
  },
  {
   "cell_type": "code",
   "execution_count": 29,
   "metadata": {},
   "outputs": [
    {
     "data": {
      "text/plain": [
       "Dict{String,Any} with 7 entries:\n",
       "  \"rg\"        => [0.0]\n",
       "  \"grounded\"  => [4]\n",
       "  \"status\"    => ENABLED\n",
       "  \"terminals\" => [1, 2, 3, 4]\n",
       "  \"vm_ub\"     => [2.54034, 2.54034, 2.54034, 2.54034]\n",
       "  \"vm_lb\"     => [2.07846, 2.07846, 2.07846, 2.07846]\n",
       "  \"xg\"        => [0.0]"
      ]
     },
     "execution_count": 29,
     "metadata": {},
     "output_type": "execute_result"
    }
   ],
   "source": [
    "apply_voltage_bounds!(eng_ut; vm_lb=0.9, vm_ub=1.1)\n",
    "\n",
    "eng_ut[\"bus\"][\"2\"]"
   ]
  },
  {
   "cell_type": "markdown",
   "metadata": {},
   "source": [
    "Alternatively, this can be specified at parse by"
   ]
  },
  {
   "cell_type": "code",
   "execution_count": 30,
   "metadata": {},
   "outputs": [
    {
     "name": "stdout",
     "output_type": "stream",
     "text": [
      "\u001b[32m[info | PowerModels]: Circuit has been reset with the \"clear\" on line 1 in \"ut_trans_2w_yy.dss\"\u001b[39m\n",
      "\u001b[35m[warn | PowerModels]: Command \"calcvoltagebases\" on line 35 in \"ut_trans_2w_yy.dss\" is not supported, skipping.\u001b[39m\n",
      "\u001b[35m[warn | PowerModels]: Command \"solve\" on line 38 in \"ut_trans_2w_yy.dss\" is not supported, skipping.\u001b[39m\n"
     ]
    },
    {
     "data": {
      "text/plain": [
       "Dict{String,Any} with 7 entries:\n",
       "  \"rg\"        => [0.0]\n",
       "  \"grounded\"  => [4]\n",
       "  \"status\"    => ENABLED\n",
       "  \"terminals\" => [1, 2, 3, 4]\n",
       "  \"vm_ub\"     => [2.54034, 2.54034, 2.54034, 2.54034]\n",
       "  \"vm_lb\"     => [2.07846, 2.07846, 2.07846, 2.07846]\n",
       "  \"xg\"        => [0.0]"
      ]
     },
     "execution_count": 30,
     "metadata": {},
     "output_type": "execute_result"
    }
   ],
   "source": [
    "eng_ut = parse_file(\"../test/data/opendss/ut_trans_2w_yy.dss\"; transformations=[make_lossless!, (apply_voltage_bounds!, \"vm_lb\"=>0.9, \"vm_ub\"=>1.1)])\n",
    "\n",
    "eng_ut[\"bus\"][\"2\"]"
   ]
  },
  {
   "cell_type": "markdown",
   "metadata": {},
   "source": [
    "## Mathematical Model\n",
    "\n",
    "In this section we introduce the mathematical model, which was the previous user-facing model in PowerModelsDistribution, explain how conversions between the model happen in practice, and give an example of how to do this conversion manually\n",
    "\n",
    "In practice, unless the user is interested, the conversion between the `ENGINEERING` and `MATHEMATICAL` models should be seemless and invisible to the user. By providing an `ENGINEERING` model to a `run_` command the `run_mc_model` command will know to convert the model to `MATHEMATICAL`, which will be used to the generate the JuMP model that will actually be optimized. Similarly, the solution generated by this optimization will be automatically converted back to the format of the `ENGINEERING` model.\n",
    "\n",
    "Let's first take a look at how to convert to the `MATHEMATICAL` model"
   ]
  },
  {
   "cell_type": "code",
   "execution_count": 23,
   "metadata": {},
   "outputs": [
    {
     "name": "stdout",
     "output_type": "stream",
     "text": [
      "\u001b[35m[warn | PowerModels]: Updated generator 1 cost function with order 3 to a function of order 2: [0.5, 0.0]\u001b[39m\n"
     ]
    },
    {
     "data": {
      "text/plain": [
       "Dict{String,Any} with 18 entries:\n",
       "  \"bus\"         => Dict{String,Any}(\"4\"=>Dict{String,Any}(\"grounded\"=>Bool[0, 0…\n",
       "  \"name\"        => \"3bus_example\"\n",
       "  \"dcline\"      => Dict{String,Any}()\n",
       "  \"map\"         => Dict{String,Any}[Dict(\"unmap_function\"=>\"_map_math2eng_root!…\n",
       "  \"settings\"    => Dict{String,Any}(\"sbase_default\"=>500.0,\"vbases_default\"=>Di…\n",
       "  \"gen\"         => Dict{String,Any}(\"1\"=>Dict{String,Any}(\"pg\"=>[0.0, 0.0, 0.0]…\n",
       "  \"branch\"      => Dict{String,Any}(\"1\"=>Dict{String,Any}(\"br_r\"=>[1.09406 0.43…\n",
       "  \"storage\"     => Dict{String,Any}()\n",
       "  \"switch\"      => Dict{String,Any}()\n",
       "  \"basekv\"      => 0.23094\n",
       "  \"baseMVA\"     => 0.5\n",
       "  \"conductors\"  => 3\n",
       "  \"per_unit\"    => true\n",
       "  \"data_model\"  => MATHEMATICAL\n",
       "  \"shunt\"       => Dict{String,Any}()\n",
       "  \"transformer\" => Dict{String,Any}()\n",
       "  \"bus_lookup\"  => Dict{Any,Int64}(\"primary\"=>1,\"sourcebus\"=>2,\"loadbus\"=>3)\n",
       "  \"load\"        => Dict{String,Any}(\"1\"=>Dict{String,Any}(\"model\"=>POWER,\"conne…"
      ]
     },
     "execution_count": 23,
     "metadata": {},
     "output_type": "execute_result"
    }
   ],
   "source": [
    "math = transform_data_model(eng)"
   ]
  },
  {
   "cell_type": "markdown",
   "metadata": {},
   "source": [
    "There are a couple of things to notice right away. First, the data model transform automatically converts the model to per-unit. Second, there are a lot of empty component sets, whereas in the `ENGINEERING` model, only component types that had components in them were listed. In the `MATHEMATICAL` model certain component dictionaries are always expected to exist, and the `eng2math` conversion functions will automatically populate these.\n",
    "\n",
    "Next, there are a few unusal fields, such as `\"settings\"`, which previously didn't exist in the `MATHEMATICAL` model. This is used for the per-unit conversion specifically in PowerModelsDistribution. Also, is the `\"map\"` field, which is a `Vector` of Dictionaries that enable the conversion back to `ENGINEERING` from `MATHEMATICAL`. Without this it would be impossible to convert back, and in fact only the solution can be converted, because some properties are combined destructively during the conversion to the `MATHEMATICAL` model, and therefore cannot be reverse engineered. However, since the conversion to `MATHEMATICAL` is not in-place, you will always have a copy of `eng` alongside `math`.\n",
    "\n",
    "Here is an example of one of the `\"map\"` entries"
   ]
  },
  {
   "cell_type": "code",
   "execution_count": 24,
   "metadata": {},
   "outputs": [
    {
     "data": {
      "text/plain": [
       "Dict{String,Any} with 3 entries:\n",
       "  \"to\"             => [\"gen.1\", \"bus.4\", \"branch.3\"]\n",
       "  \"from\"           => \"source\"\n",
       "  \"unmap_function\" => \"_map_math2eng_voltage_source!\""
      ]
     },
     "execution_count": 24,
     "metadata": {},
     "output_type": "execute_result"
    }
   ],
   "source": [
    "math[\"map\"][end]"
   ]
  },
  {
   "cell_type": "markdown",
   "metadata": {},
   "source": [
    "Alternatively, the `MATHEMATICAL` model can be returned directly from the `parse_file` command with the `data_model` keyword argument"
   ]
  },
  {
   "cell_type": "code",
   "execution_count": 25,
   "metadata": {},
   "outputs": [
    {
     "name": "stdout",
     "output_type": "stream",
     "text": [
      "\u001b[32m[info | PowerModels]: Circuit has been reset with the \"clear\" on line 1 in \"case3_unbalanced.dss\"\u001b[39m\n",
      "\u001b[35m[warn | PowerModels]: Command \"calcvoltagebases\" on line 35 in \"case3_unbalanced.dss\" is not supported, skipping.\u001b[39m\n",
      "\u001b[35m[warn | PowerModels]: Command \"solve\" on line 37 in \"case3_unbalanced.dss\" is not supported, skipping.\u001b[39m\n",
      "\u001b[35m[warn | PowerModels]: Updated generator 1 cost function with order 3 to a function of order 2: [0.5, 0.0]\u001b[39m\n"
     ]
    },
    {
     "data": {
      "text/plain": [
       "Dict{String,Any} with 18 entries:\n",
       "  \"bus\"         => Dict{String,Any}(\"4\"=>Dict{String,Any}(\"grounded\"=>Bool[0, 0…\n",
       "  \"name\"        => \"3bus_example\"\n",
       "  \"dcline\"      => Dict{String,Any}()\n",
       "  \"map\"         => Dict{String,Any}[Dict(\"unmap_function\"=>\"_map_math2eng_root!…\n",
       "  \"settings\"    => Dict{String,Any}(\"sbase_default\"=>500.0,\"vbases_default\"=>Di…\n",
       "  \"gen\"         => Dict{String,Any}(\"1\"=>Dict{String,Any}(\"pg\"=>[0.0, 0.0, 0.0]…\n",
       "  \"branch\"      => Dict{String,Any}(\"1\"=>Dict{String,Any}(\"br_r\"=>[1.09406 0.43…\n",
       "  \"storage\"     => Dict{String,Any}()\n",
       "  \"switch\"      => Dict{String,Any}()\n",
       "  \"basekv\"      => 0.23094\n",
       "  \"baseMVA\"     => 0.5\n",
       "  \"conductors\"  => 3\n",
       "  \"per_unit\"    => true\n",
       "  \"data_model\"  => MATHEMATICAL\n",
       "  \"shunt\"       => Dict{String,Any}()\n",
       "  \"transformer\" => Dict{String,Any}()\n",
       "  \"bus_lookup\"  => Dict{Any,Int64}(\"primary\"=>1,\"sourcebus\"=>2,\"loadbus\"=>3)\n",
       "  \"load\"        => Dict{String,Any}(\"1\"=>Dict{String,Any}(\"model\"=>POWER,\"conne…"
      ]
     },
     "execution_count": 25,
     "metadata": {},
     "output_type": "execute_result"
    }
   ],
   "source": [
    "math = parse_file(\"../test/data/opendss/case3_unbalanced.dss\"; data_model=MATHEMATICAL)"
   ]
  },
  {
   "cell_type": "markdown",
   "metadata": {},
   "source": [
    "### Running `MATHEMATICAL` models\n",
    "\n",
    "There is very little difference from the user point-of-view in running `MATHEMATICAL` models other than the results will not be automatically converted back to the the format of the `ENGINEERING` model"
   ]
  },
  {
   "cell_type": "code",
   "execution_count": 26,
   "metadata": {},
   "outputs": [
    {
     "data": {
      "text/plain": [
       "Dict{String,Any} with 7 entries:\n",
       "  \"baseMVA\"    => 0.5\n",
       "  \"branch\"     => Dict{String,Any}(\"1\"=>Dict{String,Any}(\"qf\"=>[0.00618975, 0.0…\n",
       "  \"gen\"        => Dict{String,Any}(\"1\"=>Dict{String,Any}(\"qg_bus\"=>[0.00635515,…\n",
       "  \"load\"       => Dict{String,Any}(\"1\"=>Dict{String,Any}(\"qd_bus\"=>[0.0, 0.006,…\n",
       "  \"conductors\" => 3\n",
       "  \"bus\"        => Dict{String,Any}(\"4\"=>Dict{String,Any}(\"va\"=>[0.0, -2.0944, 2…\n",
       "  \"per_unit\"   => true"
      ]
     },
     "execution_count": 26,
     "metadata": {},
     "output_type": "execute_result"
    }
   ],
   "source": [
    "result_math = run_mc_opf(math, ACPPowerModel, ipopt_solver)\n",
    "\n",
    "result_math[\"solution\"]"
   ]
  },
  {
   "cell_type": "markdown",
   "metadata": {},
   "source": [
    "It is also possible to manually convert the solution back to the `ENGINEERING` format, provided you have the __map__"
   ]
  },
  {
   "cell_type": "code",
   "execution_count": 27,
   "metadata": {},
   "outputs": [
    {
     "data": {
      "text/plain": [
       "Dict{String,Any} with 6 entries:\n",
       "  \"voltage_source\" => Dict{Any,Any}(\"source\"=>Dict{String,Any}(\"qg_bus\"=>[3.177…\n",
       "  \"line\"           => Dict{Any,Any}(\"quad\"=>Dict{String,Any}(\"qf\"=>[3.09488, 3.…\n",
       "  \"settings\"       => Dict{String,Any}(\"sbase\"=>0.5)\n",
       "  \"load\"           => Dict{Any,Any}(\"l2\"=>Dict{String,Any}(\"qd_bus\"=>[0.0, 3.0,…\n",
       "  \"bus\"            => Dict{Any,Any}(\"primary\"=>Dict{String,Any}(\"va\"=>[-0.22425…\n",
       "  \"per_unit\"       => false"
      ]
     },
     "execution_count": 27,
     "metadata": {},
     "output_type": "execute_result"
    }
   ],
   "source": [
    "result_eng = transform_solution(result_math[\"solution\"], math)"
   ]
  },
  {
   "cell_type": "markdown",
   "metadata": {},
   "source": [
    "## Conclusion\n",
    "\n",
    "This concludes the introduction to the `ENGINEERING` data model and conversion to the `MATHEMATICAL` model. We hope that you will find this new data model abstraction easy to use and simple to understand"
   ]
  }
 ],
 "metadata": {
  "kernelspec": {
   "display_name": "Julia 1.4.1",
   "language": "julia",
   "name": "julia-1.4"
  },
  "language_info": {
   "file_extension": ".jl",
   "mimetype": "application/julia",
   "name": "julia",
   "version": "1.4.1"
  },
  "varInspector": {
   "cols": {
    "lenName": 16,
    "lenType": 16,
    "lenVar": 40
   },
   "kernels_config": {
    "python": {
     "delete_cmd_postfix": "",
     "delete_cmd_prefix": "del ",
     "library": "var_list.py",
     "varRefreshCmd": "print(var_dic_list())"
    },
    "r": {
     "delete_cmd_postfix": ") ",
     "delete_cmd_prefix": "rm(",
     "library": "var_list.r",
     "varRefreshCmd": "cat(var_dic_list()) "
    }
   },
   "types_to_exclude": [
    "module",
    "function",
    "builtin_function_or_method",
    "instance",
    "_Feature"
   ],
   "window_display": false
  }
 },
 "nbformat": 4,
 "nbformat_minor": 2
}
